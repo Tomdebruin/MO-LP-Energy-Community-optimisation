{
 "cells": [
  {
   "cell_type": "code",
   "execution_count": 4,
   "metadata": {},
   "outputs": [
    {
     "name": "stdout",
     "output_type": "stream",
     "text": [
      "[INFO] Running scenario: sensitivity_base\n",
      "[SUCCESS] Model for scenario 'sensitivity_base' built successfully.\n"
     ]
    },
    {
     "name": "stderr",
     "output_type": "stream",
     "text": [
      "Postprocessing: All values < 1e-10 set to 0 in flow_cap, link_flow_cap, flow_out, flow_in, source_use, source_cap, flow_out_inc_eff, flow_in_inc_eff\n"
     ]
    },
    {
     "name": "stdout",
     "output_type": "stream",
     "text": [
      "[SUCCESS] Scenario 'sensitivity_base' solved.\n",
      "[INFO] Scenario 'sensitivity_base' saved to ./sensitivity_analysis_runs5/sensitivity_base.nc\n",
      "[INFO] Running scenario: sensitivity_affordable\n",
      "[SUCCESS] Model for scenario 'sensitivity_affordable' built successfully.\n"
     ]
    },
    {
     "name": "stderr",
     "output_type": "stream",
     "text": [
      "Postprocessing: All values < 1e-10 set to 0 in flow_cap, link_flow_cap, flow_out, flow_in, source_use, source_cap, flow_out_inc_eff, flow_in_inc_eff\n"
     ]
    },
    {
     "name": "stdout",
     "output_type": "stream",
     "text": [
      "[SUCCESS] Scenario 'sensitivity_affordable' solved.\n",
      "[INFO] Scenario 'sensitivity_affordable' saved to ./sensitivity_analysis_runs5/sensitivity_affordable.nc\n",
      "[INFO] Running scenario: sensitivity_sustainable\n",
      "[SUCCESS] Model for scenario 'sensitivity_sustainable' built successfully.\n"
     ]
    },
    {
     "name": "stderr",
     "output_type": "stream",
     "text": [
      "Postprocessing: All values < 1e-10 set to 0 in flow_cap, link_flow_cap, flow_out, flow_in, source_use, source_cap, flow_out_inc_eff, flow_in_inc_eff\n"
     ]
    },
    {
     "name": "stdout",
     "output_type": "stream",
     "text": [
      "[SUCCESS] Scenario 'sensitivity_sustainable' solved.\n",
      "[INFO] Scenario 'sensitivity_sustainable' saved to ./sensitivity_analysis_runs5/sensitivity_sustainable.nc\n",
      "[INFO] Running scenario: sensitivity_secure\n",
      "[ERROR] Scenario 'sensitivity_secure' failed: (scenarios, sensitivity_secure) | Unrecognised override name: sensitivity_secure.\n",
      "[INFO] Running scenario: sensitivity_price_fixed_b0_27_s0_13\n",
      "[SUCCESS] Model for scenario 'sensitivity_price_fixed_b0_27_s0_13' built successfully.\n"
     ]
    },
    {
     "name": "stderr",
     "output_type": "stream",
     "text": [
      "Postprocessing: All values < 1e-10 set to 0 in flow_cap, link_flow_cap, flow_out, flow_in, source_use, source_cap, flow_out_inc_eff, flow_in_inc_eff\n"
     ]
    },
    {
     "name": "stdout",
     "output_type": "stream",
     "text": [
      "[SUCCESS] Scenario 'sensitivity_price_fixed_b0_27_s0_13' solved.\n",
      "[INFO] Scenario 'sensitivity_price_fixed_b0_27_s0_13' saved to ./sensitivity_analysis_runs5/sensitivity_price_fixed_b0_27_s0_13.nc\n",
      "[INFO] Running scenario: sensitivity_price_fixed_b0_27_s0_03\n",
      "[SUCCESS] Model for scenario 'sensitivity_price_fixed_b0_27_s0_03' built successfully.\n"
     ]
    },
    {
     "name": "stderr",
     "output_type": "stream",
     "text": [
      "Postprocessing: All values < 1e-10 set to 0 in flow_cap, link_flow_cap, flow_out, flow_in, source_use, source_cap, flow_out_inc_eff, flow_in_inc_eff\n"
     ]
    },
    {
     "name": "stdout",
     "output_type": "stream",
     "text": [
      "[SUCCESS] Scenario 'sensitivity_price_fixed_b0_27_s0_03' solved.\n",
      "[INFO] Scenario 'sensitivity_price_fixed_b0_27_s0_03' saved to ./sensitivity_analysis_runs5/sensitivity_price_fixed_b0_27_s0_03.nc\n",
      "[INFO] Running scenario: sensitivity_price_fixed_retail_b0_27_s0_27\n",
      "[SUCCESS] Model for scenario 'sensitivity_price_fixed_retail_b0_27_s0_27' built successfully.\n"
     ]
    },
    {
     "name": "stderr",
     "output_type": "stream",
     "text": [
      "Postprocessing: All values < 1e-10 set to 0 in flow_cap, link_flow_cap, flow_out, flow_in, source_use, source_cap, flow_out_inc_eff, flow_in_inc_eff\n"
     ]
    },
    {
     "name": "stdout",
     "output_type": "stream",
     "text": [
      "[SUCCESS] Scenario 'sensitivity_price_fixed_retail_b0_27_s0_27' solved.\n",
      "[INFO] Scenario 'sensitivity_price_fixed_retail_b0_27_s0_27' saved to ./sensitivity_analysis_runs5/sensitivity_price_fixed_retail_b0_27_s0_27.nc\n",
      "[INFO] Running scenario: sensitivity_price_fixed_retail_b0_27_s_day_ahead\n",
      "[SUCCESS] Model for scenario 'sensitivity_price_fixed_retail_b0_27_s_day_ahead' built successfully.\n"
     ]
    },
    {
     "name": "stderr",
     "output_type": "stream",
     "text": [
      "Problem status:\n",
      "\n",
      "Name: x1\n",
      "Lower bound: -inf\n",
      "Upper bound: inf\n",
      "Number of objectives: 1\n",
      "Number of constraints: 1191378\n",
      "Number of variables: 709629\n",
      "Number of binary variables: 0\n",
      "Number of integer variables: 0\n",
      "Number of continuous variables: 709629\n",
      "Number of nonzeros: 2894931\n",
      "Sense: minimize\n",
      "\n",
      "Solver status:\n",
      "\n",
      "Status: warning\n",
      "Return code: 0\n",
      "Message: Problem proven to be infeasible or unbounded.\n",
      "Termination condition: infeasibleOrUnbounded\n",
      "Termination message: Problem proven to be infeasible or unbounded.\n",
      "Wall time: 0.1887059211730957\n",
      "Error rc: 0\n",
      "Time: 2.732806921005249\n",
      "\n",
      "BackendWarning: Model solution was non-optimal.\n"
     ]
    },
    {
     "name": "stdout",
     "output_type": "stream",
     "text": [
      "[SUCCESS] Scenario 'sensitivity_price_fixed_retail_b0_27_s_day_ahead' solved.\n",
      "[INFO] Scenario 'sensitivity_price_fixed_retail_b0_27_s_day_ahead' saved to ./sensitivity_analysis_runs5/sensitivity_price_fixed_retail_b0_27_s_day_ahead.nc\n",
      "[ERROR] Scenario 'sensitivity_price_fixed_retail_b0_27_s_day_ahead' failed: 'Dataset' object has no attribute 'cost'\n",
      "[INFO] Running scenario: sensitivity_price_fixed_retail_b_day_ahead_s0_13\n",
      "[SUCCESS] Model for scenario 'sensitivity_price_fixed_retail_b_day_ahead_s0_13' built successfully.\n"
     ]
    },
    {
     "name": "stderr",
     "output_type": "stream",
     "text": [
      "Problem status:\n",
      "\n",
      "Name: x1\n",
      "Lower bound: -inf\n",
      "Upper bound: inf\n",
      "Number of objectives: 1\n",
      "Number of constraints: 1191378\n",
      "Number of variables: 709629\n",
      "Number of binary variables: 0\n",
      "Number of integer variables: 0\n",
      "Number of continuous variables: 709629\n",
      "Number of nonzeros: 2894931\n",
      "Sense: minimize\n",
      "\n",
      "Solver status:\n",
      "\n",
      "Status: warning\n",
      "Return code: 0\n",
      "Message: Problem proven to be infeasible or unbounded.\n",
      "Termination condition: infeasibleOrUnbounded\n",
      "Termination message: Problem proven to be infeasible or unbounded.\n",
      "Wall time: 0.18067407608032227\n",
      "Error rc: 0\n",
      "Time: 2.848879098892212\n",
      "\n",
      "BackendWarning: Model solution was non-optimal.\n"
     ]
    },
    {
     "name": "stdout",
     "output_type": "stream",
     "text": [
      "[SUCCESS] Scenario 'sensitivity_price_fixed_retail_b_day_ahead_s0_13' solved.\n",
      "[INFO] Scenario 'sensitivity_price_fixed_retail_b_day_ahead_s0_13' saved to ./sensitivity_analysis_runs5/sensitivity_price_fixed_retail_b_day_ahead_s0_13.nc\n",
      "[ERROR] Scenario 'sensitivity_price_fixed_retail_b_day_ahead_s0_13' failed: 'Dataset' object has no attribute 'cost'\n",
      "[INFO] Running scenario: sensitivity_price_fixed_retail_b_day_ahead_s0_03\n",
      "[SUCCESS] Model for scenario 'sensitivity_price_fixed_retail_b_day_ahead_s0_03' built successfully.\n"
     ]
    },
    {
     "name": "stderr",
     "output_type": "stream",
     "text": [
      "Problem status:\n",
      "\n",
      "Name: x1\n",
      "Lower bound: -inf\n",
      "Upper bound: inf\n",
      "Number of objectives: 1\n",
      "Number of constraints: 1191378\n",
      "Number of variables: 709629\n",
      "Number of binary variables: 0\n",
      "Number of integer variables: 0\n",
      "Number of continuous variables: 709629\n",
      "Number of nonzeros: 2894931\n",
      "Sense: minimize\n",
      "\n",
      "Solver status:\n",
      "\n",
      "Status: warning\n",
      "Return code: 0\n",
      "Message: Problem proven to be infeasible or unbounded.\n",
      "Termination condition: infeasibleOrUnbounded\n",
      "Termination message: Problem proven to be infeasible or unbounded.\n",
      "Wall time: 0.18350911140441895\n",
      "Error rc: 0\n",
      "Time: 2.702752113342285\n",
      "\n",
      "BackendWarning: Model solution was non-optimal.\n"
     ]
    },
    {
     "name": "stdout",
     "output_type": "stream",
     "text": [
      "[SUCCESS] Scenario 'sensitivity_price_fixed_retail_b_day_ahead_s0_03' solved.\n",
      "[INFO] Scenario 'sensitivity_price_fixed_retail_b_day_ahead_s0_03' saved to ./sensitivity_analysis_runs5/sensitivity_price_fixed_retail_b_day_ahead_s0_03.nc\n",
      "[ERROR] Scenario 'sensitivity_price_fixed_retail_b_day_ahead_s0_03' failed: 'Dataset' object has no attribute 'cost'\n",
      "[INFO] Running scenario: sensitivity_transformer_size_1\n",
      "[SUCCESS] Model for scenario 'sensitivity_transformer_size_1' built successfully.\n"
     ]
    },
    {
     "name": "stderr",
     "output_type": "stream",
     "text": [
      "Postprocessing: All values < 1e-10 set to 0 in flow_out, flow_in, source_use, flow_out_inc_eff, flow_in_inc_eff, cost_var, capacity_factor\n"
     ]
    },
    {
     "name": "stdout",
     "output_type": "stream",
     "text": [
      "[SUCCESS] Scenario 'sensitivity_transformer_size_1' solved.\n",
      "[INFO] Scenario 'sensitivity_transformer_size_1' saved to ./sensitivity_analysis_runs5/sensitivity_transformer_size_1.nc\n",
      "[INFO] Running scenario: sensitivity_transformer_size_100\n",
      "[SUCCESS] Model for scenario 'sensitivity_transformer_size_100' built successfully.\n"
     ]
    },
    {
     "name": "stderr",
     "output_type": "stream",
     "text": [
      "Postprocessing: All values < 1e-10 set to 0 in flow_cap, link_flow_cap, flow_out, flow_in, source_use, source_cap, flow_out_inc_eff, flow_in_inc_eff\n"
     ]
    },
    {
     "name": "stdout",
     "output_type": "stream",
     "text": [
      "[SUCCESS] Scenario 'sensitivity_transformer_size_100' solved.\n",
      "[INFO] Scenario 'sensitivity_transformer_size_100' saved to ./sensitivity_analysis_runs5/sensitivity_transformer_size_100.nc\n",
      "[INFO] Running scenario: sensitivity_transformer_size_200\n",
      "[SUCCESS] Model for scenario 'sensitivity_transformer_size_200' built successfully.\n"
     ]
    },
    {
     "name": "stderr",
     "output_type": "stream",
     "text": [
      "Postprocessing: All values < 1e-10 set to 0 in flow_cap, link_flow_cap, flow_out, flow_in, source_use, source_cap, flow_out_inc_eff, flow_in_inc_eff\n"
     ]
    },
    {
     "name": "stdout",
     "output_type": "stream",
     "text": [
      "[SUCCESS] Scenario 'sensitivity_transformer_size_200' solved.\n",
      "[INFO] Scenario 'sensitivity_transformer_size_200' saved to ./sensitivity_analysis_runs5/sensitivity_transformer_size_200.nc\n",
      "[INFO] Running scenario: sensitivity_transformer_size_800\n",
      "[SUCCESS] Model for scenario 'sensitivity_transformer_size_800' built successfully.\n"
     ]
    },
    {
     "name": "stderr",
     "output_type": "stream",
     "text": [
      "Postprocessing: All values < 1e-10 set to 0 in flow_cap, link_flow_cap, flow_out, flow_in, source_use, source_cap, flow_out_inc_eff, flow_in_inc_eff\n"
     ]
    },
    {
     "name": "stdout",
     "output_type": "stream",
     "text": [
      "[SUCCESS] Scenario 'sensitivity_transformer_size_800' solved.\n",
      "[INFO] Scenario 'sensitivity_transformer_size_800' saved to ./sensitivity_analysis_runs5/sensitivity_transformer_size_800.nc\n",
      "[INFO] Running scenario: sensitivity_transformer_size_1200\n",
      "[SUCCESS] Model for scenario 'sensitivity_transformer_size_1200' built successfully.\n"
     ]
    },
    {
     "name": "stderr",
     "output_type": "stream",
     "text": [
      "Postprocessing: All values < 1e-10 set to 0 in flow_cap, link_flow_cap, flow_out, flow_in, source_use, source_cap, flow_out_inc_eff, flow_in_inc_eff\n"
     ]
    },
    {
     "name": "stdout",
     "output_type": "stream",
     "text": [
      "[SUCCESS] Scenario 'sensitivity_transformer_size_1200' solved.\n",
      "[INFO] Scenario 'sensitivity_transformer_size_1200' saved to ./sensitivity_analysis_runs5/sensitivity_transformer_size_1200.nc\n",
      "[INFO] Running scenario: sensitivity_pv_capacity_zero\n",
      "[SUCCESS] Model for scenario 'sensitivity_pv_capacity_zero' built successfully.\n"
     ]
    },
    {
     "name": "stderr",
     "output_type": "stream",
     "text": [
      "Postprocessing: All values < 1e-10 set to 0 in flow_cap, link_flow_cap, flow_out, flow_in, source_use, source_cap, flow_out_inc_eff, flow_in_inc_eff\n"
     ]
    },
    {
     "name": "stdout",
     "output_type": "stream",
     "text": [
      "[SUCCESS] Scenario 'sensitivity_pv_capacity_zero' solved.\n",
      "[INFO] Scenario 'sensitivity_pv_capacity_zero' saved to ./sensitivity_analysis_runs5/sensitivity_pv_capacity_zero.nc\n",
      "[INFO] Running scenario: sensitivity_pv_capacity_120\n",
      "[SUCCESS] Model for scenario 'sensitivity_pv_capacity_120' built successfully.\n"
     ]
    },
    {
     "name": "stderr",
     "output_type": "stream",
     "text": [
      "Postprocessing: All values < 1e-10 set to 0 in flow_cap, link_flow_cap, flow_out, flow_in, source_use, source_cap, flow_out_inc_eff, flow_in_inc_eff\n"
     ]
    },
    {
     "name": "stdout",
     "output_type": "stream",
     "text": [
      "[SUCCESS] Scenario 'sensitivity_pv_capacity_120' solved.\n",
      "[INFO] Scenario 'sensitivity_pv_capacity_120' saved to ./sensitivity_analysis_runs5/sensitivity_pv_capacity_120.nc\n",
      "[INFO] Running scenario: sensitivity_pv_capacity_400\n",
      "[SUCCESS] Model for scenario 'sensitivity_pv_capacity_400' built successfully.\n"
     ]
    },
    {
     "name": "stderr",
     "output_type": "stream",
     "text": [
      "Postprocessing: All values < 1e-10 set to 0 in flow_cap, link_flow_cap, flow_out, flow_in, source_use, source_cap, flow_out_inc_eff, flow_in_inc_eff\n"
     ]
    },
    {
     "name": "stdout",
     "output_type": "stream",
     "text": [
      "[SUCCESS] Scenario 'sensitivity_pv_capacity_400' solved.\n",
      "[INFO] Scenario 'sensitivity_pv_capacity_400' saved to ./sensitivity_analysis_runs5/sensitivity_pv_capacity_400.nc\n",
      "[INFO] Running scenario: sensitivity_pv_capacity_800\n",
      "[SUCCESS] Model for scenario 'sensitivity_pv_capacity_800' built successfully.\n"
     ]
    },
    {
     "name": "stderr",
     "output_type": "stream",
     "text": [
      "Postprocessing: All values < 1e-10 set to 0 in flow_cap, link_flow_cap, flow_out, flow_in, source_use, source_cap, flow_out_inc_eff, flow_in_inc_eff\n"
     ]
    },
    {
     "name": "stdout",
     "output_type": "stream",
     "text": [
      "[SUCCESS] Scenario 'sensitivity_pv_capacity_800' solved.\n",
      "[INFO] Scenario 'sensitivity_pv_capacity_800' saved to ./sensitivity_analysis_runs5/sensitivity_pv_capacity_800.nc\n",
      "[INFO] Running scenario: sensitivity_pv_capacity_inf\n",
      "[SUCCESS] Model for scenario 'sensitivity_pv_capacity_inf' built successfully.\n"
     ]
    },
    {
     "name": "stderr",
     "output_type": "stream",
     "text": [
      "Postprocessing: All values < 1e-10 set to 0 in flow_cap, link_flow_cap, flow_out, flow_in, source_use, source_cap, flow_out_inc_eff, flow_in_inc_eff\n"
     ]
    },
    {
     "name": "stdout",
     "output_type": "stream",
     "text": [
      "[SUCCESS] Scenario 'sensitivity_pv_capacity_inf' solved.\n",
      "[INFO] Scenario 'sensitivity_pv_capacity_inf' saved to ./sensitivity_analysis_runs5/sensitivity_pv_capacity_inf.nc\n",
      "[INFO] Running scenario: sensitivity_electrification_low\n",
      "[SUCCESS] Model for scenario 'sensitivity_electrification_low' built successfully.\n"
     ]
    },
    {
     "name": "stderr",
     "output_type": "stream",
     "text": [
      "Postprocessing: All values < 1e-10 set to 0 in flow_cap, link_flow_cap, flow_out, flow_in, source_use, source_cap, flow_out_inc_eff, flow_in_inc_eff\n"
     ]
    },
    {
     "name": "stdout",
     "output_type": "stream",
     "text": [
      "[SUCCESS] Scenario 'sensitivity_electrification_low' solved.\n",
      "[INFO] Scenario 'sensitivity_electrification_low' saved to ./sensitivity_analysis_runs5/sensitivity_electrification_low.nc\n",
      "[INFO] Running scenario: sensitivity_electrification_high\n",
      "[SUCCESS] Model for scenario 'sensitivity_electrification_high' built successfully.\n"
     ]
    },
    {
     "name": "stderr",
     "output_type": "stream",
     "text": [
      "Postprocessing: All values < 1e-10 set to 0 in flow_cap, link_flow_cap, flow_out, flow_in, source_use, source_cap, flow_out_inc_eff, flow_in_inc_eff\n"
     ]
    },
    {
     "name": "stdout",
     "output_type": "stream",
     "text": [
      "[SUCCESS] Scenario 'sensitivity_electrification_high' solved.\n",
      "[INFO] Scenario 'sensitivity_electrification_high' saved to ./sensitivity_analysis_runs5/sensitivity_electrification_high.nc\n",
      "[INFO] Running scenario: sensitivity_battery_price_500\n",
      "[SUCCESS] Model for scenario 'sensitivity_battery_price_500' built successfully.\n"
     ]
    },
    {
     "name": "stderr",
     "output_type": "stream",
     "text": [
      "Postprocessing: All values < 1e-10 set to 0 in flow_cap, link_flow_cap, flow_out, flow_in, source_use, source_cap, flow_out_inc_eff, flow_in_inc_eff\n"
     ]
    },
    {
     "name": "stdout",
     "output_type": "stream",
     "text": [
      "[SUCCESS] Scenario 'sensitivity_battery_price_500' solved.\n",
      "[INFO] Scenario 'sensitivity_battery_price_500' saved to ./sensitivity_analysis_runs5/sensitivity_battery_price_500.nc\n",
      "[INFO] Running scenario: sensitivity_battery_price_250\n",
      "[SUCCESS] Model for scenario 'sensitivity_battery_price_250' built successfully.\n"
     ]
    },
    {
     "name": "stderr",
     "output_type": "stream",
     "text": [
      "Postprocessing: All values < 1e-10 set to 0 in flow_cap, link_flow_cap, flow_out, flow_in, source_use, source_cap, flow_out_inc_eff, flow_in_inc_eff\n"
     ]
    },
    {
     "name": "stdout",
     "output_type": "stream",
     "text": [
      "[SUCCESS] Scenario 'sensitivity_battery_price_250' solved.\n",
      "[INFO] Scenario 'sensitivity_battery_price_250' saved to ./sensitivity_analysis_runs5/sensitivity_battery_price_250.nc\n",
      "[INFO] Running scenario: sensitivity_battery_price_100\n",
      "[SUCCESS] Model for scenario 'sensitivity_battery_price_100' built successfully.\n"
     ]
    },
    {
     "name": "stderr",
     "output_type": "stream",
     "text": [
      "Postprocessing: All values < 1e-10 set to 0 in flow_cap, link_flow_cap, flow_out, flow_in, source_use, source_cap, flow_out_inc_eff, flow_in_inc_eff\n"
     ]
    },
    {
     "name": "stdout",
     "output_type": "stream",
     "text": [
      "[SUCCESS] Scenario 'sensitivity_battery_price_100' solved.\n",
      "[INFO] Scenario 'sensitivity_battery_price_100' saved to ./sensitivity_analysis_runs5/sensitivity_battery_price_100.nc\n",
      "[INFO] Running scenario: sensitivity_battery_price_1\n",
      "[SUCCESS] Model for scenario 'sensitivity_battery_price_1' built successfully.\n"
     ]
    },
    {
     "name": "stderr",
     "output_type": "stream",
     "text": [
      "Postprocessing: All values < 1e-10 set to 0 in flow_cap, link_flow_cap, flow_out, flow_in, source_use, source_cap, flow_out_inc_eff, flow_in_inc_eff\n"
     ]
    },
    {
     "name": "stdout",
     "output_type": "stream",
     "text": [
      "[SUCCESS] Scenario 'sensitivity_battery_price_1' solved.\n",
      "[INFO] Scenario 'sensitivity_battery_price_1' saved to ./sensitivity_analysis_runs5/sensitivity_battery_price_1.nc\n",
      "[INFO] Running scenario: sensitivity_battery_capacity_1\n",
      "[SUCCESS] Model for scenario 'sensitivity_battery_capacity_1' built successfully.\n"
     ]
    },
    {
     "name": "stderr",
     "output_type": "stream",
     "text": [
      "Postprocessing: All values < 1e-10 set to 0 in flow_cap, link_flow_cap, flow_out, flow_in, source_use, source_cap, flow_out_inc_eff, flow_in_inc_eff\n"
     ]
    },
    {
     "name": "stdout",
     "output_type": "stream",
     "text": [
      "[SUCCESS] Scenario 'sensitivity_battery_capacity_1' solved.\n",
      "[INFO] Scenario 'sensitivity_battery_capacity_1' saved to ./sensitivity_analysis_runs5/sensitivity_battery_capacity_1.nc\n",
      "[INFO] Running scenario: sensitivity_battery_capacity_200\n",
      "[SUCCESS] Model for scenario 'sensitivity_battery_capacity_200' built successfully.\n"
     ]
    },
    {
     "name": "stderr",
     "output_type": "stream",
     "text": [
      "Postprocessing: All values < 1e-10 set to 0 in flow_cap, link_flow_cap, flow_out, flow_in, source_use, source_cap, flow_out_inc_eff, flow_in_inc_eff\n"
     ]
    },
    {
     "name": "stdout",
     "output_type": "stream",
     "text": [
      "[SUCCESS] Scenario 'sensitivity_battery_capacity_200' solved.\n",
      "[INFO] Scenario 'sensitivity_battery_capacity_200' saved to ./sensitivity_analysis_runs5/sensitivity_battery_capacity_200.nc\n",
      "[INFO] Running scenario: sensitivity_battery_capacity_400\n",
      "[SUCCESS] Model for scenario 'sensitivity_battery_capacity_400' built successfully.\n"
     ]
    },
    {
     "name": "stderr",
     "output_type": "stream",
     "text": [
      "Postprocessing: All values < 1e-10 set to 0 in flow_cap, link_flow_cap, flow_out, flow_in, source_use, source_cap, flow_out_inc_eff, flow_in_inc_eff\n"
     ]
    },
    {
     "name": "stdout",
     "output_type": "stream",
     "text": [
      "[SUCCESS] Scenario 'sensitivity_battery_capacity_400' solved.\n",
      "[INFO] Scenario 'sensitivity_battery_capacity_400' saved to ./sensitivity_analysis_runs5/sensitivity_battery_capacity_400.nc\n",
      "[INFO] Running scenario: sensitivity_battery_capacity_600\n",
      "[SUCCESS] Model for scenario 'sensitivity_battery_capacity_600' built successfully.\n"
     ]
    },
    {
     "name": "stderr",
     "output_type": "stream",
     "text": [
      "Postprocessing: All values < 1e-10 set to 0 in flow_cap, link_flow_cap, flow_out, flow_in, source_use, source_cap, flow_out_inc_eff, flow_in_inc_eff\n"
     ]
    },
    {
     "name": "stdout",
     "output_type": "stream",
     "text": [
      "[SUCCESS] Scenario 'sensitivity_battery_capacity_600' solved.\n",
      "[INFO] Scenario 'sensitivity_battery_capacity_600' saved to ./sensitivity_analysis_runs5/sensitivity_battery_capacity_600.nc\n",
      "[INFO] Running scenario: sensitivity_battery_capacity_800\n",
      "[SUCCESS] Model for scenario 'sensitivity_battery_capacity_800' built successfully.\n"
     ]
    },
    {
     "name": "stderr",
     "output_type": "stream",
     "text": [
      "Postprocessing: All values < 1e-10 set to 0 in flow_cap, link_flow_cap, flow_out, flow_in, source_use, source_cap, flow_out_inc_eff, flow_in_inc_eff\n"
     ]
    },
    {
     "name": "stdout",
     "output_type": "stream",
     "text": [
      "[SUCCESS] Scenario 'sensitivity_battery_capacity_800' solved.\n",
      "[INFO] Scenario 'sensitivity_battery_capacity_800' saved to ./sensitivity_analysis_runs5/sensitivity_battery_capacity_800.nc\n",
      "[SUCCESS] Results saved to ./sensitivity_analysis_runs5/all_results.csv\n"
     ]
    }
   ],
   "source": [
    "import calliope\n",
    "import os\n",
    "import pandas as pd\n",
    "from datetime import datetime\n",
    "\n",
    "# ----------------------------\n",
    "# 📂 Paths and Directories\n",
    "# ----------------------------\n",
    "BASE_MODEL_PATH = \"/Users/tomdebruin/Library/CloudStorage/OneDrive-DelftUniversityofTechnology/00 THESIS/00 Working Docs/V4/model.yaml\"\n",
    "OUTPUT_DIR = \"./sensitivity_analysis_runs5\"\n",
    "ERROR_LOG = os.path.join(OUTPUT_DIR, \"error_log.txt\")\n",
    "RESULTS_CSV = os.path.join(OUTPUT_DIR, \"all_results.csv\")\n",
    "\n",
    "os.makedirs(OUTPUT_DIR, exist_ok=True)\n",
    "\n",
    "# ----------------------------\n",
    "# 📝 Define Scenarios\n",
    "# ----------------------------\n",
    "SCENARIOS = [\n",
    "    \"sensitivity_base\",\n",
    "    \"sensitivity_affordable\",\n",
    "    \"sensitivity_sustainable\",\n",
    "    \"sensitivity_secure\",\n",
    "    \"sensitivity_price_fixed_b0_27_s0_13\",\n",
    "    \"sensitivity_price_fixed_b0_27_s0_03\",\n",
    "    \"sensitivity_price_fixed_retail_b0_27_s0_27\",\n",
    "    \"sensitivity_price_fixed_retail_b0_27_s_day_ahead\",\n",
    "    \"sensitivity_price_fixed_retail_b_day_ahead_s0_13\",\n",
    "    \"sensitivity_price_fixed_retail_b_day_ahead_s0_03\",\n",
    "    \"sensitivity_transformer_size_1\",\n",
    "    \"sensitivity_transformer_size_100\",\n",
    "    \"sensitivity_transformer_size_200\",\n",
    "    \"sensitivity_transformer_size_800\",\n",
    "    \"sensitivity_transformer_size_1200\",\n",
    "    \"sensitivity_pv_capacity_zero\",\n",
    "    \"sensitivity_pv_capacity_120\",\n",
    "    \"sensitivity_pv_capacity_400\",\n",
    "    \"sensitivity_pv_capacity_800\",\n",
    "    \"sensitivity_pv_capacity_inf\",\n",
    "    \"sensitivity_electrification_low\",\n",
    "    \"sensitivity_electrification_high\",\n",
    "    \"sensitivity_battery_price_500\",\n",
    "    \"sensitivity_battery_price_250\",\n",
    "    \"sensitivity_battery_price_100\",\n",
    "    \"sensitivity_battery_price_1\",\n",
    "    \"sensitivity_battery_capacity_1\",\n",
    "    \"sensitivity_battery_capacity_200\",\n",
    "    \"sensitivity_battery_capacity_400\",\n",
    "    \"sensitivity_battery_capacity_600\",\n",
    "    \"sensitivity_battery_capacity_800\"\n",
    "]\n",
    "\n",
    "# ----------------------------\n",
    "# 🛠️ Core Functions\n",
    "# ----------------------------\n",
    "\n",
    "def run_scenario(scenario_name):\n",
    "    \"\"\"\n",
    "    Run a single scenario with the given name.\n",
    "    \"\"\"\n",
    "    print(f\"[INFO] Running scenario: {scenario_name}\")\n",
    "    try:\n",
    "        # Initialize model with the specific scenario\n",
    "        model = calliope.Model(BASE_MODEL_PATH, scenario=scenario_name)\n",
    "        model.build()\n",
    "        print(f\"[SUCCESS] Model for scenario '{scenario_name}' built successfully.\")\n",
    "        \n",
    "        # Solve the model\n",
    "        model.solve(force=True)\n",
    "        print(f\"[SUCCESS] Scenario '{scenario_name}' solved.\")\n",
    "        \n",
    "        # Save results to NetCDF\n",
    "        output_file = os.path.join(OUTPUT_DIR, f\"{scenario_name}.nc\")\n",
    "        model.to_netcdf(output_file)\n",
    "        print(f\"[INFO] Scenario '{scenario_name}' saved to {output_file}\")\n",
    "        \n",
    "        # Extract and return key metrics\n",
    "        total_cost = model.results.cost.sum().values.item()\n",
    "        return {\n",
    "            \"scenario\": scenario_name,\n",
    "            \"total_cost\": total_cost\n",
    "        }\n",
    "    \n",
    "    except Exception as e:\n",
    "        print(f\"[ERROR] Scenario '{scenario_name}' failed: {e}\")\n",
    "        with open(ERROR_LOG, \"a\") as log_file:\n",
    "            log_file.write(f\"{datetime.now()} - Scenario '{scenario_name}' failed: {e}\\n\")\n",
    "        return None\n",
    "\n",
    "\n",
    "def run_all_scenarios():\n",
    "    \"\"\"\n",
    "    Run all scenarios sequentially and collect results.\n",
    "    \"\"\"\n",
    "    results = []\n",
    "    \n",
    "    for scenario in SCENARIOS:\n",
    "        result = run_scenario(scenario)\n",
    "        if result:\n",
    "            results.append(result)\n",
    "    \n",
    "    # Save all results to CSV\n",
    "    if results:\n",
    "        df = pd.DataFrame(results)\n",
    "        df.to_csv(RESULTS_CSV, index=False)\n",
    "        print(f\"[SUCCESS] Results saved to {RESULTS_CSV}\")\n",
    "    else:\n",
    "        print(\"[WARNING] No scenarios completed successfully. Check error logs.\")\n",
    "\n",
    "\n",
    "# ----------------------------\n",
    "# ▶️ Run Script\n",
    "# ----------------------------\n",
    "if __name__ == \"__main__\":\n",
    "    run_all_scenarios()\n"
   ]
  },
  {
   "cell_type": "code",
   "execution_count": 1,
   "metadata": {},
   "outputs": [
    {
     "name": "stdout",
     "output_type": "stream",
     "text": [
      "[SUCCESS] Cost results saved to './sensitivity_analysis_runs/cost_results.csv'\n",
      "                                  scenario  monetary_cost      co2_cost  \\\n",
      "0         sensitivity_battery_price_medium   55551.541649  76110.585203   \n",
      "1                  sensitivity_sustainable  153836.269763  56572.677166   \n",
      "2  sensitivity_transformer_size_undersized   68556.754329  85062.489453   \n",
      "3   sensitivity_transformer_size_oversized   66864.332825  85015.073076   \n",
      "4            sensitivity_battery_price_low   39112.809824  68184.181568   \n",
      "\n",
      "   transformer_congestion_indicator  \n",
      "0                      90366.943738  \n",
      "1                      54837.433139  \n",
      "2                      92861.298563  \n",
      "3                      98762.047780  \n",
      "4                      87201.147819  \n"
     ]
    }
   ],
   "source": [
    "import xarray as xr\n",
    "import pandas as pd\n",
    "import os\n",
    "\n",
    "# ----------------------------\n",
    "# 📂 Paths and Directories\n",
    "# ----------------------------\n",
    "SCENARIO_DIR = \"./sensitivity_analysis_runs\"\n",
    "OUTPUT_CSV = \"./sensitivity_analysis_runs/cost_results.csv\"\n",
    "\n",
    "# Verify if the directory exists\n",
    "if not os.path.exists(SCENARIO_DIR):\n",
    "    raise FileNotFoundError(f\"The directory '{SCENARIO_DIR}' does not exist. Run scenarios first!\")\n",
    "\n",
    "# ----------------------------\n",
    "# 📊 Extract Costs from NetCDF Files\n",
    "# ----------------------------\n",
    "def extract_costs_from_netcdf(file_path):\n",
    "    \"\"\"\n",
    "    Extract monetary, CO2, and transformer congestion costs from a NetCDF file.\n",
    "    \"\"\"\n",
    "    try:\n",
    "        model = xr.open_dataset(file_path)\n",
    "        monetary_cost = model['cost'].sel(costs='monetary').sum().values.item()\n",
    "        co2_cost = model['cost'].sel(costs='co2_emissions').sum().values.item()\n",
    "        transformer_cost = model['cost'].sel(costs='transformer_congestion_indicator').sum().values.item()\n",
    "        \n",
    "        return {\n",
    "            \"monetary_cost\": monetary_cost,\n",
    "            \"co2_cost\": co2_cost,\n",
    "            \"transformer_congestion_indicator\": transformer_cost\n",
    "        }\n",
    "    except KeyError as e:\n",
    "        print(f\"[ERROR] Missing required variable in {file_path}: {e}\")\n",
    "        return None\n",
    "    except Exception as e:\n",
    "        print(f\"[ERROR] Failed to process {file_path}: {e}\")\n",
    "        return None\n",
    "\n",
    "\n",
    "# ----------------------------\n",
    "# 📑 Aggregate Costs from All Scenarios\n",
    "# ----------------------------\n",
    "scenario_files = [f for f in os.listdir(SCENARIO_DIR) if f.endswith('.nc')]\n",
    "cost_data = []\n",
    "\n",
    "for scenario_file in scenario_files:\n",
    "    scenario_path = os.path.join(SCENARIO_DIR, scenario_file)\n",
    "    scenario_name = os.path.splitext(scenario_file)[0]\n",
    "    costs = extract_costs_from_netcdf(scenario_path)\n",
    "    \n",
    "    if costs:\n",
    "        costs[\"scenario\"] = scenario_name  # Add scenario name to the data\n",
    "        cost_data.append(costs)\n",
    "\n",
    "# Create DataFrame\n",
    "if not cost_data:\n",
    "    raise ValueError(\"No valid cost data found in the NetCDF files.\")\n",
    "\n",
    "df_costs = pd.DataFrame(cost_data)\n",
    "\n",
    "# Reorder columns for clarity\n",
    "df_costs = df_costs[[\"scenario\", \"monetary_cost\", \"co2_cost\", \"transformer_congestion_indicator\"]]\n",
    "\n",
    "# ----------------------------\n",
    "# 💾 Save to CSV\n",
    "# ----------------------------\n",
    "df_costs.to_csv(OUTPUT_CSV, index=False)\n",
    "print(f\"[SUCCESS] Cost results saved to '{OUTPUT_CSV}'\")\n",
    "\n",
    "# Optional: Display the first few rows of the DataFrame for confirmation\n",
    "print(df_costs.head())\n"
   ]
  },
  {
   "cell_type": "code",
   "execution_count": null,
   "metadata": {},
   "outputs": [],
   "source": []
  },
  {
   "cell_type": "code",
   "execution_count": null,
   "metadata": {},
   "outputs": [
    {
     "name": "stdout",
     "output_type": "stream",
     "text": [
      "[INFO] Running scenario: sensitivity_base\n",
      "[SUCCESS] Model for scenario 'sensitivity_base' built successfully.\n"
     ]
    },
    {
     "name": "stderr",
     "output_type": "stream",
     "text": [
      "Postprocessing: All values < 1e-10 set to 0 in flow_cap, link_flow_cap, flow_out, flow_in, source_use, source_cap, flow_out_inc_eff, flow_in_inc_eff\n"
     ]
    },
    {
     "name": "stdout",
     "output_type": "stream",
     "text": [
      "[SUCCESS] Scenario 'sensitivity_base' solved.\n",
      "[INFO] Scenario 'sensitivity_base' saved to ./sensitivity_analysis_runs_structural/sensitivity_base.nc\n",
      "[INFO] Running scenario: sensitivity_pv_capacity_zero\n",
      "[SUCCESS] Model for scenario 'sensitivity_pv_capacity_zero' built successfully.\n"
     ]
    },
    {
     "name": "stderr",
     "output_type": "stream",
     "text": [
      "Postprocessing: All values < 1e-10 set to 0 in flow_cap, link_flow_cap, flow_out, flow_in, source_use, source_cap, flow_out_inc_eff, flow_in_inc_eff\n"
     ]
    },
    {
     "name": "stdout",
     "output_type": "stream",
     "text": [
      "[SUCCESS] Scenario 'sensitivity_pv_capacity_zero' solved.\n",
      "[INFO] Scenario 'sensitivity_pv_capacity_zero' saved to ./sensitivity_analysis_runs_structural/sensitivity_pv_capacity_zero.nc\n",
      "[INFO] Running scenario: sensitivity_pv_capacity_120\n",
      "[SUCCESS] Model for scenario 'sensitivity_pv_capacity_120' built successfully.\n"
     ]
    },
    {
     "name": "stderr",
     "output_type": "stream",
     "text": [
      "Postprocessing: All values < 1e-10 set to 0 in flow_cap, link_flow_cap, flow_out, flow_in, source_use, source_cap, flow_out_inc_eff, flow_in_inc_eff\n"
     ]
    },
    {
     "name": "stdout",
     "output_type": "stream",
     "text": [
      "[SUCCESS] Scenario 'sensitivity_pv_capacity_120' solved.\n",
      "[INFO] Scenario 'sensitivity_pv_capacity_120' saved to ./sensitivity_analysis_runs_structural/sensitivity_pv_capacity_120.nc\n",
      "[INFO] Running scenario: sensitivity_pv_capacity_400\n",
      "[SUCCESS] Model for scenario 'sensitivity_pv_capacity_400' built successfully.\n"
     ]
    },
    {
     "name": "stderr",
     "output_type": "stream",
     "text": [
      "Postprocessing: All values < 1e-10 set to 0 in flow_cap, link_flow_cap, flow_out, flow_in, source_use, source_cap, flow_out_inc_eff, flow_in_inc_eff\n"
     ]
    },
    {
     "name": "stdout",
     "output_type": "stream",
     "text": [
      "[SUCCESS] Scenario 'sensitivity_pv_capacity_400' solved.\n",
      "[INFO] Scenario 'sensitivity_pv_capacity_400' saved to ./sensitivity_analysis_runs_structural/sensitivity_pv_capacity_400.nc\n",
      "[INFO] Running scenario: sensitivity_pv_capacity_800\n",
      "[SUCCESS] Model for scenario 'sensitivity_pv_capacity_800' built successfully.\n"
     ]
    },
    {
     "name": "stderr",
     "output_type": "stream",
     "text": [
      "Postprocessing: All values < 1e-10 set to 0 in flow_cap, link_flow_cap, flow_out, flow_in, source_use, source_cap, flow_out_inc_eff, flow_in_inc_eff\n"
     ]
    },
    {
     "name": "stdout",
     "output_type": "stream",
     "text": [
      "[SUCCESS] Scenario 'sensitivity_pv_capacity_800' solved.\n",
      "[INFO] Scenario 'sensitivity_pv_capacity_800' saved to ./sensitivity_analysis_runs_structural/sensitivity_pv_capacity_800.nc\n",
      "[INFO] Running scenario: sensitivity_pv_capacity_inf\n",
      "[SUCCESS] Model for scenario 'sensitivity_pv_capacity_inf' built successfully.\n"
     ]
    },
    {
     "name": "stderr",
     "output_type": "stream",
     "text": [
      "Postprocessing: All values < 1e-10 set to 0 in flow_cap, link_flow_cap, flow_out, flow_in, source_use, source_cap, flow_out_inc_eff, flow_in_inc_eff\n"
     ]
    },
    {
     "name": "stdout",
     "output_type": "stream",
     "text": [
      "[SUCCESS] Scenario 'sensitivity_pv_capacity_inf' solved.\n",
      "[INFO] Scenario 'sensitivity_pv_capacity_inf' saved to ./sensitivity_analysis_runs_structural/sensitivity_pv_capacity_inf.nc\n",
      "[INFO] Running scenario: sensitivity_battery_capacity_1\n",
      "[SUCCESS] Model for scenario 'sensitivity_battery_capacity_1' built successfully.\n"
     ]
    },
    {
     "name": "stderr",
     "output_type": "stream",
     "text": [
      "Postprocessing: All values < 1e-10 set to 0 in flow_cap, link_flow_cap, flow_out, flow_in, source_use, source_cap, flow_out_inc_eff, flow_in_inc_eff\n"
     ]
    },
    {
     "name": "stdout",
     "output_type": "stream",
     "text": [
      "[SUCCESS] Scenario 'sensitivity_battery_capacity_1' solved.\n",
      "[INFO] Scenario 'sensitivity_battery_capacity_1' saved to ./sensitivity_analysis_runs_structural/sensitivity_battery_capacity_1.nc\n",
      "[INFO] Running scenario: sensitivity_battery_capacity_200\n",
      "[SUCCESS] Model for scenario 'sensitivity_battery_capacity_200' built successfully.\n"
     ]
    },
    {
     "name": "stderr",
     "output_type": "stream",
     "text": [
      "Postprocessing: All values < 1e-10 set to 0 in flow_cap, link_flow_cap, flow_out, flow_in, source_use, source_cap, flow_out_inc_eff, flow_in_inc_eff\n"
     ]
    },
    {
     "name": "stdout",
     "output_type": "stream",
     "text": [
      "[SUCCESS] Scenario 'sensitivity_battery_capacity_200' solved.\n",
      "[INFO] Scenario 'sensitivity_battery_capacity_200' saved to ./sensitivity_analysis_runs_structural/sensitivity_battery_capacity_200.nc\n",
      "[INFO] Running scenario: sensitivity_battery_capacity_400\n",
      "[SUCCESS] Model for scenario 'sensitivity_battery_capacity_400' built successfully.\n"
     ]
    },
    {
     "name": "stderr",
     "output_type": "stream",
     "text": [
      "Postprocessing: All values < 1e-10 set to 0 in flow_cap, link_flow_cap, flow_out, flow_in, source_use, source_cap, flow_out_inc_eff, flow_in_inc_eff\n"
     ]
    },
    {
     "name": "stdout",
     "output_type": "stream",
     "text": [
      "[SUCCESS] Scenario 'sensitivity_battery_capacity_400' solved.\n",
      "[INFO] Scenario 'sensitivity_battery_capacity_400' saved to ./sensitivity_analysis_runs_structural/sensitivity_battery_capacity_400.nc\n",
      "[INFO] Running scenario: sensitivity_battery_capacity_600\n",
      "[SUCCESS] Model for scenario 'sensitivity_battery_capacity_600' built successfully.\n"
     ]
    },
    {
     "name": "stderr",
     "output_type": "stream",
     "text": [
      "Postprocessing: All values < 1e-10 set to 0 in flow_cap, link_flow_cap, flow_out, flow_in, source_use, source_cap, flow_out_inc_eff, flow_in_inc_eff\n"
     ]
    },
    {
     "name": "stdout",
     "output_type": "stream",
     "text": [
      "[SUCCESS] Scenario 'sensitivity_battery_capacity_600' solved.\n",
      "[INFO] Scenario 'sensitivity_battery_capacity_600' saved to ./sensitivity_analysis_runs_structural/sensitivity_battery_capacity_600.nc\n",
      "[INFO] Running scenario: sensitivity_battery_capacity_800\n",
      "[SUCCESS] Model for scenario 'sensitivity_battery_capacity_800' built successfully.\n"
     ]
    },
    {
     "name": "stderr",
     "output_type": "stream",
     "text": [
      "Postprocessing: All values < 1e-10 set to 0 in flow_cap, link_flow_cap, flow_out, flow_in, source_use, source_cap, flow_out_inc_eff, flow_in_inc_eff\n"
     ]
    },
    {
     "name": "stdout",
     "output_type": "stream",
     "text": [
      "[SUCCESS] Scenario 'sensitivity_battery_capacity_800' solved.\n",
      "[INFO] Scenario 'sensitivity_battery_capacity_800' saved to ./sensitivity_analysis_runs_structural/sensitivity_battery_capacity_800.nc\n",
      "[SUCCESS] Results saved to ./sensitivity_analysis_runs_structural/all_results.csv\n"
     ]
    },
    {
     "ename": "NameError",
     "evalue": "name 'i' is not defined",
     "output_type": "error",
     "traceback": [
      "\u001b[0;31m---------------------------------------------------------------------------\u001b[0m",
      "\u001b[0;31mNameError\u001b[0m                                 Traceback (most recent call last)",
      "Cell \u001b[0;32mIn[6], line 97\u001b[0m\n\u001b[1;32m     95\u001b[0m \u001b[38;5;28;01mif\u001b[39;00m \u001b[38;5;18m__name__\u001b[39m \u001b[38;5;241m==\u001b[39m \u001b[38;5;124m\"\u001b[39m\u001b[38;5;124m__main__\u001b[39m\u001b[38;5;124m\"\u001b[39m:\n\u001b[1;32m     96\u001b[0m     run_all_scenarios()\n\u001b[0;32m---> 97\u001b[0m \u001b[43mi\u001b[49m\n",
      "\u001b[0;31mNameError\u001b[0m: name 'i' is not defined"
     ]
    }
   ],
   "source": [
    "Struture\n",
    "import calliope\n",
    "import os\n",
    "import pandas as pd\n",
    "from datetime import datetime\n",
    "\n",
    "# ----------------------------\n",
    "# 📂 Paths and Directories\n",
    "# ----------------------------\n",
    "BASE_MODEL_PATH = \"/Users/tomdebruin/Library/CloudStorage/OneDrive-DelftUniversityofTechnology/00 THESIS/00 Working Docs/V4/model.yaml\"\n",
    "OUTPUT_DIR = \"./sensitivity_analysis_runs_structural\"\n",
    "ERROR_LOG = os.path.join(OUTPUT_DIR, \"error_log.txt\")\n",
    "RESULTS_CSV = os.path.join(OUTPUT_DIR, \"all_results.csv\")\n",
    "\n",
    "os.makedirs(OUTPUT_DIR, exist_ok=True)\n",
    "\n",
    "# ----------------------------\n",
    "# 📝 Define Scenarios\n",
    "# ----------------------------\n",
    "SCENARIOS = [\n",
    "    \"sensitivity_base\",\n",
    "    \"sensitivity_pv_capacity_zero\",\n",
    "    \"sensitivity_pv_capacity_120\",\n",
    "    \"sensitivity_pv_capacity_400\",\n",
    "    \"sensitivity_pv_capacity_800\",\n",
    "    \"sensitivity_pv_capacity_inf\",\n",
    "    \"sensitivity_battery_capacity_1\",\n",
    "    \"sensitivity_battery_capacity_200\",\n",
    "    \"sensitivity_battery_capacity_400\",\n",
    "    \"sensitivity_battery_capacity_600\",\n",
    "    \"sensitivity_battery_capacity_800\",\n",
    "    \"sensitivity_battery_central_capacity_1\",\n",
    "    \"sensitivity_battery_central_capacity_200\",\n",
    "    \"sensitivity_battery_central_capacity_400\",\n",
    "    \"sensitivity_battery_central_capacity_600\",\n",
    "    \"sensitivity_battery_central_capacity_800\"\n",
    "]\n",
    "\n",
    "# ----------------------------\n",
    "# 🛠️ Core Functions\n",
    "# ----------------------------\n",
    "\n",
    "def run_scenario(scenario_name):\n",
    "    \"\"\"\n",
    "    Run a single scenario with the given name.\n",
    "    \"\"\"\n",
    "    print(f\"[INFO] Running scenario: {scenario_name}\")\n",
    "    try:\n",
    "        # Initialize model with the specific scenario\n",
    "        model = calliope.Model(BASE_MODEL_PATH, scenario=scenario_name)\n",
    "        model.build()\n",
    "        print(f\"[SUCCESS] Model for scenario '{scenario_name}' built successfully.\")\n",
    "        \n",
    "        # Solve the model\n",
    "        model.solve(force=True)\n",
    "        print(f\"[SUCCESS] Scenario '{scenario_name}' solved.\")\n",
    "        \n",
    "        # Save results to NetCDF\n",
    "        output_file = os.path.join(OUTPUT_DIR, f\"{scenario_name}.nc\")\n",
    "        model.to_netcdf(output_file)\n",
    "        print(f\"[INFO] Scenario '{scenario_name}' saved to {output_file}\")\n",
    "        \n",
    "        # Extract and return key metrics\n",
    "        total_cost = model.results.cost.sum().values.item()\n",
    "        return {\n",
    "            \"scenario\": scenario_name,\n",
    "            \"total_cost\": total_cost\n",
    "        }\n",
    "    \n",
    "    except Exception as e:\n",
    "        print(f\"[ERROR] Scenario '{scenario_name}' failed: {e}\")\n",
    "        with open(ERROR_LOG, \"a\") as log_file:\n",
    "            log_file.write(f\"{datetime.now()} - Scenario '{scenario_name}' failed: {e}\\n\")\n",
    "        return None\n",
    "\n",
    "\n",
    "def run_all_scenarios():\n",
    "    \"\"\"\n",
    "    Run all scenarios sequentially and collect results.\n",
    "    \"\"\"\n",
    "    results = []\n",
    "    \n",
    "    for scenario in SCENARIOS:\n",
    "        result = run_scenario(scenario)\n",
    "        if result:\n",
    "            results.append(result)\n",
    "    \n",
    "    # Save all results to CSV\n",
    "    if results:\n",
    "        df = pd.DataFrame(results)\n",
    "        df.to_csv(RESULTS_CSV, index=False)\n",
    "        print(f\"[SUCCESS] Results saved to {RESULTS_CSV}\")\n",
    "    else:\n",
    "        print(\"[WARNING] No scenarios completed successfully. Check error logs.\")\n",
    "\n",
    "\n",
    "# ----------------------------\n",
    "# ▶️ Run Script\n",
    "# ----------------------------\n",
    "if __name__ == \"__main__\":\n",
    "    run_all_scenarios()"
   ]
  },
  {
   "cell_type": "code",
   "execution_count": 8,
   "metadata": {},
   "outputs": [
    {
     "name": "stdout",
     "output_type": "stream",
     "text": [
      "[INFO] Running scenario: sensitivity_battery_central_capacity_1\n",
      "[SUCCESS] Model for scenario 'sensitivity_battery_central_capacity_1' built successfully.\n"
     ]
    },
    {
     "name": "stderr",
     "output_type": "stream",
     "text": [
      "Postprocessing: All values < 1e-10 set to 0 in flow_cap, link_flow_cap, flow_out, flow_in, source_use, source_cap, flow_out_inc_eff, flow_in_inc_eff\n"
     ]
    },
    {
     "name": "stdout",
     "output_type": "stream",
     "text": [
      "[SUCCESS] Scenario 'sensitivity_battery_central_capacity_1' solved.\n",
      "[INFO] Scenario 'sensitivity_battery_central_capacity_1' saved to ./sensitivity_analysis_runs_extra/sensitivity_battery_central_capacity_1.nc\n",
      "[INFO] Running scenario: sensitivity_battery_central_capacity_200\n",
      "[SUCCESS] Model for scenario 'sensitivity_battery_central_capacity_200' built successfully.\n"
     ]
    },
    {
     "name": "stderr",
     "output_type": "stream",
     "text": [
      "Postprocessing: All values < 1e-10 set to 0 in flow_cap, link_flow_cap, flow_out, flow_in, source_use, source_cap, flow_out_inc_eff, flow_in_inc_eff\n"
     ]
    },
    {
     "name": "stdout",
     "output_type": "stream",
     "text": [
      "[SUCCESS] Scenario 'sensitivity_battery_central_capacity_200' solved.\n",
      "[INFO] Scenario 'sensitivity_battery_central_capacity_200' saved to ./sensitivity_analysis_runs_extra/sensitivity_battery_central_capacity_200.nc\n",
      "[INFO] Running scenario: sensitivity_battery_central_capacity_400\n",
      "[SUCCESS] Model for scenario 'sensitivity_battery_central_capacity_400' built successfully.\n"
     ]
    },
    {
     "name": "stderr",
     "output_type": "stream",
     "text": [
      "Postprocessing: All values < 1e-10 set to 0 in flow_cap, link_flow_cap, flow_out, flow_in, source_use, source_cap, flow_out_inc_eff, flow_in_inc_eff\n"
     ]
    },
    {
     "name": "stdout",
     "output_type": "stream",
     "text": [
      "[SUCCESS] Scenario 'sensitivity_battery_central_capacity_400' solved.\n",
      "[INFO] Scenario 'sensitivity_battery_central_capacity_400' saved to ./sensitivity_analysis_runs_extra/sensitivity_battery_central_capacity_400.nc\n",
      "[INFO] Running scenario: sensitivity_battery_central_capacity_600\n",
      "[SUCCESS] Model for scenario 'sensitivity_battery_central_capacity_600' built successfully.\n"
     ]
    },
    {
     "name": "stderr",
     "output_type": "stream",
     "text": [
      "Postprocessing: All values < 1e-10 set to 0 in flow_cap, link_flow_cap, flow_out, flow_in, source_use, source_cap, flow_out_inc_eff, flow_in_inc_eff\n"
     ]
    },
    {
     "name": "stdout",
     "output_type": "stream",
     "text": [
      "[SUCCESS] Scenario 'sensitivity_battery_central_capacity_600' solved.\n",
      "[INFO] Scenario 'sensitivity_battery_central_capacity_600' saved to ./sensitivity_analysis_runs_extra/sensitivity_battery_central_capacity_600.nc\n",
      "[INFO] Running scenario: sensitivity_battery_central_capacity_800\n",
      "[SUCCESS] Model for scenario 'sensitivity_battery_central_capacity_800' built successfully.\n"
     ]
    },
    {
     "name": "stderr",
     "output_type": "stream",
     "text": [
      "Postprocessing: All values < 1e-10 set to 0 in flow_cap, link_flow_cap, flow_out, flow_in, source_use, source_cap, flow_out_inc_eff, flow_in_inc_eff\n"
     ]
    },
    {
     "name": "stdout",
     "output_type": "stream",
     "text": [
      "[SUCCESS] Scenario 'sensitivity_battery_central_capacity_800' solved.\n",
      "[INFO] Scenario 'sensitivity_battery_central_capacity_800' saved to ./sensitivity_analysis_runs_extra/sensitivity_battery_central_capacity_800.nc\n",
      "[SUCCESS] Results saved to ./sensitivity_analysis_runs_extra/all_results.csv\n"
     ]
    }
   ],
   "source": [
    "#Struture\n",
    "import calliope\n",
    "import os\n",
    "import pandas as pd\n",
    "from datetime import datetime\n",
    "\n",
    "# ----------------------------\n",
    "# 📂 Paths and Directories\n",
    "# ----------------------------\n",
    "BASE_MODEL_PATH = \"/Users/tomdebruin/Library/CloudStorage/OneDrive-DelftUniversityofTechnology/00 THESIS/00 Working Docs/V4/model.yaml\"\n",
    "OUTPUT_DIR = \"./sensitivity_analysis_runs_extra\"\n",
    "ERROR_LOG = os.path.join(OUTPUT_DIR, \"error_log.txt\")\n",
    "RESULTS_CSV = os.path.join(OUTPUT_DIR, \"all_results.csv\")\n",
    "\n",
    "os.makedirs(OUTPUT_DIR, exist_ok=True)\n",
    "\n",
    "# ----------------------------\n",
    "# 📝 Define Scenarios\n",
    "# ----------------------------\n",
    "SCENARIOS = [\n",
    "  \"sensitivity_battery_central_capacity_1\",\n",
    "  \"sensitivity_battery_central_capacity_200\",\n",
    "  \"sensitivity_battery_central_capacity_400\",\n",
    "  \"sensitivity_battery_central_capacity_600\",\n",
    "  \"sensitivity_battery_central_capacity_800\"\n",
    "]\n",
    "\n",
    "# ----------------------------\n",
    "# 🛠️ Core Functions\n",
    "# ----------------------------\n",
    "\n",
    "def run_scenario(scenario_name):\n",
    "    \"\"\"\n",
    "    Run a single scenario with the given name.\n",
    "    \"\"\"\n",
    "    print(f\"[INFO] Running scenario: {scenario_name}\")\n",
    "    try:\n",
    "        # Initialize model with the specific scenario\n",
    "        model = calliope.Model(BASE_MODEL_PATH, scenario=scenario_name)\n",
    "        model.build()\n",
    "        print(f\"[SUCCESS] Model for scenario '{scenario_name}' built successfully.\")\n",
    "        \n",
    "        # Solve the model\n",
    "        model.solve(force=True)\n",
    "        print(f\"[SUCCESS] Scenario '{scenario_name}' solved.\")\n",
    "        \n",
    "        # Save results to NetCDF\n",
    "        output_file = os.path.join(OUTPUT_DIR, f\"{scenario_name}.nc\")\n",
    "        model.to_netcdf(output_file)\n",
    "        print(f\"[INFO] Scenario '{scenario_name}' saved to {output_file}\")\n",
    "        \n",
    "        # Extract and return key metrics\n",
    "        total_cost = model.results.cost.sum().values.item()\n",
    "        return {\n",
    "            \"scenario\": scenario_name,\n",
    "            \"total_cost\": total_cost\n",
    "        }\n",
    "    \n",
    "    except Exception as e:\n",
    "        print(f\"[ERROR] Scenario '{scenario_name}' failed: {e}\")\n",
    "        with open(ERROR_LOG, \"a\") as log_file:\n",
    "            log_file.write(f\"{datetime.now()} - Scenario '{scenario_name}' failed: {e}\\n\")\n",
    "        return None\n",
    "\n",
    "\n",
    "def run_all_scenarios():\n",
    "    \"\"\"\n",
    "    Run all scenarios sequentially and collect results.\n",
    "    \"\"\"\n",
    "    results = []\n",
    "    \n",
    "    for scenario in SCENARIOS:\n",
    "        result = run_scenario(scenario)\n",
    "        if result:\n",
    "            results.append(result)\n",
    "    \n",
    "    # Save all results to CSV\n",
    "    if results:\n",
    "        df = pd.DataFrame(results)\n",
    "        df.to_csv(RESULTS_CSV, index=False)\n",
    "        print(f\"[SUCCESS] Results saved to {RESULTS_CSV}\")\n",
    "    else:\n",
    "        print(\"[WARNING] No scenarios completed successfully. Check error logs.\")\n",
    "\n",
    "\n",
    "# ----------------------------\n",
    "# ▶️ Run Script\n",
    "# ----------------------------\n",
    "if __name__ == \"__main__\":\n",
    "    run_all_scenarios()"
   ]
  }
 ],
 "metadata": {
  "kernelspec": {
   "display_name": "calliope",
   "language": "python",
   "name": "python3"
  },
  "language_info": {
   "codemirror_mode": {
    "name": "ipython",
    "version": 3
   },
   "file_extension": ".py",
   "mimetype": "text/x-python",
   "name": "python",
   "nbconvert_exporter": "python",
   "pygments_lexer": "ipython3",
   "version": "3.12.7"
  }
 },
 "nbformat": 4,
 "nbformat_minor": 2
}
