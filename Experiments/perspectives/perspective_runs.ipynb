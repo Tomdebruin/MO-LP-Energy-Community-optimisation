{
 "cells": [
  {
   "cell_type": "code",
   "execution_count": 8,
   "metadata": {},
   "outputs": [
    {
     "name": "stdout",
     "output_type": "stream",
     "text": [
      "[INFO] Running scenario: cluster_0\n",
      "[SUCCESS] Model for scenario 'cluster_0' built successfully.\n"
     ]
    },
    {
     "name": "stderr",
     "output_type": "stream",
     "text": [
      "Postprocessing: All values < 1e-10 set to 0 in flow_cap, link_flow_cap, flow_out, flow_in, source_use, source_cap, flow_out_inc_eff, flow_in_inc_eff\n"
     ]
    },
    {
     "name": "stdout",
     "output_type": "stream",
     "text": [
      "[SUCCESS] Scenario 'cluster_0' solved.\n",
      "[INFO] Scenario 'cluster_0' saved to ./perspective_runs/cluster_0.nc\n",
      "[INFO] Running scenario: cluster_1\n",
      "[SUCCESS] Model for scenario 'cluster_1' built successfully.\n"
     ]
    },
    {
     "name": "stderr",
     "output_type": "stream",
     "text": [
      "Postprocessing: All values < 1e-10 set to 0 in flow_cap, link_flow_cap, flow_out, flow_in, source_use, source_cap, flow_out_inc_eff, flow_in_inc_eff\n"
     ]
    },
    {
     "name": "stdout",
     "output_type": "stream",
     "text": [
      "[SUCCESS] Scenario 'cluster_1' solved.\n",
      "[INFO] Scenario 'cluster_1' saved to ./perspective_runs/cluster_1.nc\n",
      "[INFO] Running scenario: cluster_2\n",
      "[SUCCESS] Model for scenario 'cluster_2' built successfully.\n"
     ]
    },
    {
     "name": "stderr",
     "output_type": "stream",
     "text": [
      "Postprocessing: All values < 1e-10 set to 0 in flow_cap, link_flow_cap, flow_out, flow_in, source_use, source_cap, flow_out_inc_eff, flow_in_inc_eff\n"
     ]
    },
    {
     "name": "stdout",
     "output_type": "stream",
     "text": [
      "[SUCCESS] Scenario 'cluster_2' solved.\n",
      "[INFO] Scenario 'cluster_2' saved to ./perspective_runs/cluster_2.nc\n",
      "[INFO] Running scenario: cluster_3\n",
      "[SUCCESS] Model for scenario 'cluster_3' built successfully.\n"
     ]
    },
    {
     "name": "stderr",
     "output_type": "stream",
     "text": [
      "Postprocessing: All values < 1e-10 set to 0 in flow_cap, link_flow_cap, flow_out, flow_in, source_use, source_cap, flow_out_inc_eff, flow_in_inc_eff\n"
     ]
    },
    {
     "name": "stdout",
     "output_type": "stream",
     "text": [
      "[SUCCESS] Scenario 'cluster_3' solved.\n",
      "[INFO] Scenario 'cluster_3' saved to ./perspective_runs/cluster_3.nc\n",
      "[INFO] Running scenario: perspective_base\n",
      "[SUCCESS] Model for scenario 'perspective_base' built successfully.\n"
     ]
    },
    {
     "name": "stderr",
     "output_type": "stream",
     "text": [
      "Postprocessing: All values < 1e-10 set to 0 in flow_cap, link_flow_cap, flow_out, flow_in, source_use, source_cap, flow_out_inc_eff, flow_in_inc_eff\n"
     ]
    },
    {
     "name": "stdout",
     "output_type": "stream",
     "text": [
      "[SUCCESS] Scenario 'perspective_base' solved.\n",
      "[INFO] Scenario 'perspective_base' saved to ./perspective_runs/perspective_base.nc\n",
      "[SUCCESS] Results saved to ./perspective_runs/all_results.csv\n"
     ]
    }
   ],
   "source": [
    "import calliope\n",
    "import os\n",
    "import pandas as pd\n",
    "from datetime import datetime\n",
    "\n",
    "# ----------------------------\n",
    "# 📂 Paths and Directories\n",
    "# ----------------------------\n",
    "BASE_MODEL_PATH = \"/Users/tomdebruin/Library/CloudStorage/OneDrive-DelftUniversityofTechnology/00 THESIS/00 Working Docs/V4/model.yaml\"\n",
    "OUTPUT_DIR = \"./perspective_runs\"\n",
    "ERROR_LOG = os.path.join(OUTPUT_DIR, \"error_log.txt\")\n",
    "RESULTS_CSV = os.path.join(OUTPUT_DIR, \"all_results.csv\")\n",
    "\n",
    "os.makedirs(OUTPUT_DIR, exist_ok=True)\n",
    "\n",
    "# ----------------------------\n",
    "# 📝 Define Scenarios\n",
    "# ----------------------------\n",
    "SCENARIOS = [\n",
    "    \"cluster_0\",\n",
    "    \"cluster_1\",\n",
    "    \"cluster_2\",\n",
    "    \"cluster_3\",\n",
    "    \"perspective_base\" \n",
    "]\n",
    "\n",
    "# ----------------------------\n",
    "# 🛠️ Core Functions\n",
    "# ----------------------------\n",
    "\n",
    "def run_scenario(scenario_name):\n",
    "    \"\"\"\n",
    "    Run a single scenario with the given name.\n",
    "    \"\"\"\n",
    "    print(f\"[INFO] Running scenario: {scenario_name}\")\n",
    "    try:\n",
    "        # Initialize model with the specific scenario\n",
    "        model = calliope.Model(BASE_MODEL_PATH, scenario=scenario_name)\n",
    "        model.build()\n",
    "        print(f\"[SUCCESS] Model for scenario '{scenario_name}' built successfully.\")\n",
    "        \n",
    "        # Solve the model\n",
    "        model.solve(force=True)\n",
    "        print(f\"[SUCCESS] Scenario '{scenario_name}' solved.\")\n",
    "        \n",
    "        # Save results to NetCDF\n",
    "        output_file = os.path.join(OUTPUT_DIR, f\"{scenario_name}.nc\")\n",
    "        model.to_netcdf(output_file)\n",
    "        print(f\"[INFO] Scenario '{scenario_name}' saved to {output_file}\")\n",
    "        \n",
    "        # Extract and return key metrics\n",
    "        total_cost = model.results.cost.sum().values.item()\n",
    "        return {\n",
    "            \"scenario\": scenario_name,\n",
    "            \"total_cost\": total_cost\n",
    "        }\n",
    "    \n",
    "    except Exception as e:\n",
    "        print(f\"[ERROR] Scenario '{scenario_name}' failed: {e}\")\n",
    "        with open(ERROR_LOG, \"a\") as log_file:\n",
    "            log_file.write(f\"{datetime.now()} - Scenario '{scenario_name}' failed: {e}\\n\")\n",
    "        return None\n",
    "\n",
    "\n",
    "def run_all_scenarios():\n",
    "    \"\"\"\n",
    "    Run all scenarios sequentially and collect results.\n",
    "    \"\"\"\n",
    "    results = []\n",
    "    \n",
    "    for scenario in SCENARIOS:\n",
    "        result = run_scenario(scenario)\n",
    "        if result:\n",
    "            results.append(result)\n",
    "    \n",
    "    # Save all results to CSV\n",
    "    if results:\n",
    "        df = pd.DataFrame(results)\n",
    "        df.to_csv(RESULTS_CSV, index=False)\n",
    "        print(f\"[SUCCESS] Results saved to {RESULTS_CSV}\")\n",
    "    else:\n",
    "        print(\"[WARNING] No scenarios completed successfully. Check error logs.\")\n",
    "\n",
    "\n",
    "# ----------------------------\n",
    "# ▶️ Run Script\n",
    "# ----------------------------\n",
    "if __name__ == \"__main__\":\n",
    "    run_all_scenarios()\n"
   ]
  }
 ],
 "metadata": {
  "kernelspec": {
   "display_name": "calliope",
   "language": "python",
   "name": "python3"
  },
  "language_info": {
   "codemirror_mode": {
    "name": "ipython",
    "version": 3
   },
   "file_extension": ".py",
   "mimetype": "text/x-python",
   "name": "python",
   "nbconvert_exporter": "python",
   "pygments_lexer": "ipython3",
   "version": "3.12.7"
  }
 },
 "nbformat": 4,
 "nbformat_minor": 2
}
